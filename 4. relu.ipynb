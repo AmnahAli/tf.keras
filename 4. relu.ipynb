{
 "cells": [
  {
   "cell_type": "code",
   "execution_count": 1,
   "metadata": {},
   "outputs": [],
   "source": [
    "from tensorflow import keras"
   ]
  },
  {
   "cell_type": "code",
   "execution_count": 2,
   "metadata": {},
   "outputs": [],
   "source": [
    "# Load Data\n",
    "(x_train, y_train), (x_test, y_test) = keras.datasets.mnist.load_data()"
   ]
  },
  {
   "cell_type": "code",
   "execution_count": 3,
   "metadata": {},
   "outputs": [],
   "source": [
    "# one hot encoding \n",
    "y_train = keras.utils.to_categorical(y_train, 10)\n",
    "y_test = keras.utils.to_categorical(y_test, 10)"
   ]
  },
  {
   "cell_type": "code",
   "execution_count": 4,
   "metadata": {},
   "outputs": [],
   "source": [
    "x_train = x_train.reshape([60000,28*28])\n",
    "x_test = x_test.reshape([10000,28*28])"
   ]
  },
  {
   "cell_type": "code",
   "execution_count": 5,
   "metadata": {},
   "outputs": [],
   "source": [
    "model = keras.Sequential()\n",
    "model.add(keras.layers.Dense(32, activation=\"sigmoid\", input_shape=(28*28,)))\n",
    "model.add(keras.layers.Dense(32, activation=\"sigmoid\"))\n",
    "model.add(keras.layers.Dense(32, activation=\"sigmoid\"))\n",
    "model.add(keras.layers.Dense(32, activation=\"sigmoid\"))\n",
    "model.add(keras.layers.Dense(32, activation=\"sigmoid\"))\n",
    "model.add(keras.layers.Dense(10, activation=\"sigmoid\"))"
   ]
  },
  {
   "cell_type": "code",
   "execution_count": 6,
   "metadata": {},
   "outputs": [
    {
     "name": "stdout",
     "output_type": "stream",
     "text": [
      "_________________________________________________________________\n",
      "Layer (type)                 Output Shape              Param #   \n",
      "=================================================================\n",
      "dense (Dense)                (None, 32)                25120     \n",
      "_________________________________________________________________\n",
      "dense_1 (Dense)              (None, 32)                1056      \n",
      "_________________________________________________________________\n",
      "dense_2 (Dense)              (None, 32)                1056      \n",
      "_________________________________________________________________\n",
      "dense_3 (Dense)              (None, 32)                1056      \n",
      "_________________________________________________________________\n",
      "dense_4 (Dense)              (None, 32)                1056      \n",
      "_________________________________________________________________\n",
      "dense_5 (Dense)              (None, 10)                330       \n",
      "=================================================================\n",
      "Total params: 29,674\n",
      "Trainable params: 29,674\n",
      "Non-trainable params: 0\n",
      "_________________________________________________________________\n"
     ]
    }
   ],
   "source": [
    "optimizer = keras.optimizers.SGD(lr=0.1)\n",
    "model.compile(optimizer=optimizer, loss=\"categorical_crossentropy\", metrics=['accuracy'])\n",
    "\n",
    "model.summary()"
   ]
  },
  {
   "cell_type": "code",
   "execution_count": 7,
   "metadata": {},
   "outputs": [
    {
     "name": "stdout",
     "output_type": "stream",
     "text": [
      "Train on 60000 samples, validate on 10000 samples\n",
      "Epoch 1/10\n",
      "60000/60000 [==============================] - 23s 382us/step - loss: 2.3024 - acc: 0.1110 - val_loss: 2.3022 - val_acc: 0.1135\n",
      "Epoch 2/10\n",
      "60000/60000 [==============================] - 20s 341us/step - loss: 2.3007 - acc: 0.1142 - val_loss: 2.2977 - val_acc: 0.1135\n",
      "Epoch 3/10\n",
      "60000/60000 [==============================] - 21s 348us/step - loss: 2.2238 - acc: 0.1696 - val_loss: 1.8639 - val_acc: 0.2082\n",
      "Epoch 4/10\n",
      "60000/60000 [==============================] - 21s 352us/step - loss: 1.8410 - acc: 0.2782 - val_loss: 1.8283 - val_acc: 0.3036\n",
      "Epoch 5/10\n",
      "60000/60000 [==============================] - 21s 353us/step - loss: 1.7490 - acc: 0.3168 - val_loss: 1.6992 - val_acc: 0.2908\n",
      "Epoch 6/10\n",
      "60000/60000 [==============================] - 21s 355us/step - loss: 1.6685 - acc: 0.3459 - val_loss: 1.6493 - val_acc: 0.3282\n",
      "Epoch 7/10\n",
      "60000/60000 [==============================] - 21s 353us/step - loss: 1.6035 - acc: 0.3588 - val_loss: 1.5845 - val_acc: 0.3768\n",
      "Epoch 8/10\n",
      "60000/60000 [==============================] - 21s 356us/step - loss: 1.6067 - acc: 0.3686 - val_loss: 1.4950 - val_acc: 0.4704\n",
      "Epoch 9/10\n",
      "60000/60000 [==============================] - 21s 353us/step - loss: 1.5811 - acc: 0.4003 - val_loss: 1.4719 - val_acc: 0.4306\n",
      "Epoch 10/10\n",
      "60000/60000 [==============================] - 22s 359us/step - loss: 1.5639 - acc: 0.4194 - val_loss: 1.3929 - val_acc: 0.4734\n"
     ]
    },
    {
     "data": {
      "text/plain": [
       "<tensorflow.python.keras.callbacks.History at 0x7fc017b37b00>"
      ]
     },
     "execution_count": 7,
     "metadata": {},
     "output_type": "execute_result"
    }
   ],
   "source": [
    "model.fit(x_train, y_train,\n",
    "          batch_size=32,\n",
    "          epochs=10,\n",
    "          validation_data=(x_test, y_test))"
   ]
  },
  {
   "cell_type": "code",
   "execution_count": 8,
   "metadata": {},
   "outputs": [
    {
     "name": "stdout",
     "output_type": "stream",
     "text": [
      "10000/10000 [==============================] - 1s 113us/step\n"
     ]
    },
    {
     "data": {
      "text/plain": [
       "[1.3929112758636475, 0.4734]"
      ]
     },
     "execution_count": 8,
     "metadata": {},
     "output_type": "execute_result"
    }
   ],
   "source": [
    "model.evaluate(x_test,y_test)"
   ]
  },
  {
   "cell_type": "code",
   "execution_count": null,
   "metadata": {},
   "outputs": [
    {
     "name": "stdout",
     "output_type": "stream",
     "text": [
      "_________________________________________________________________\n",
      "Layer (type)                 Output Shape              Param #   \n",
      "=================================================================\n",
      "dense_6 (Dense)              (None, 32)                25120     \n",
      "_________________________________________________________________\n",
      "dense_7 (Dense)              (None, 32)                1056      \n",
      "_________________________________________________________________\n",
      "dense_8 (Dense)              (None, 32)                1056      \n",
      "_________________________________________________________________\n",
      "dense_9 (Dense)              (None, 32)                1056      \n",
      "_________________________________________________________________\n",
      "dense_10 (Dense)             (None, 32)                1056      \n",
      "_________________________________________________________________\n",
      "dense_11 (Dense)             (None, 10)                330       \n",
      "=================================================================\n",
      "Total params: 29,674\n",
      "Trainable params: 29,674\n",
      "Non-trainable params: 0\n",
      "_________________________________________________________________\n",
      "Train on 60000 samples, validate on 10000 samples\n",
      "Epoch 1/10\n",
      "60000/60000 [==============================] - 22s 372us/step - loss: 1.0530 - acc: 0.7152 - val_loss: 0.5082 - val_acc: 0.8491\n",
      "Epoch 2/10\n",
      "60000/60000 [==============================] - 21s 353us/step - loss: 0.4467 - acc: 0.8703 - val_loss: 0.4119 - val_acc: 0.8811\n",
      "Epoch 3/10\n",
      "60000/60000 [==============================] - 22s 359us/step - loss: 0.3604 - acc: 0.8957 - val_loss: 0.3370 - val_acc: 0.9037\n",
      "Epoch 4/10\n",
      "60000/60000 [==============================] - 21s 356us/step - loss: 0.3133 - acc: 0.9088 - val_loss: 0.3032 - val_acc: 0.9126\n",
      "Epoch 5/10\n",
      "60000/60000 [==============================] - 21s 356us/step - loss: 0.2821 - acc: 0.9177 - val_loss: 0.2695 - val_acc: 0.9224\n",
      "Epoch 6/10\n",
      "60000/60000 [==============================] - 21s 356us/step - loss: 0.2570 - acc: 0.9246 - val_loss: 0.2627 - val_acc: 0.9228\n",
      "Epoch 7/10\n",
      "60000/60000 [==============================] - 22s 364us/step - loss: 0.2389 - acc: 0.9304 - val_loss: 0.2546 - val_acc: 0.9251\n",
      "Epoch 8/10\n",
      "60000/60000 [==============================] - 22s 363us/step - loss: 0.2240 - acc: 0.9351 - val_loss: 0.2394 - val_acc: 0.9305\n",
      "Epoch 9/10\n",
      "60000/60000 [==============================] - 21s 358us/step - loss: 0.2117 - acc: 0.9374 - val_loss: 0.2303 - val_acc: 0.9340\n",
      "Epoch 10/10\n",
      "47040/60000 [======================>.......] - ETA: 4s - loss: 0.2010 - acc: 0.9415"
     ]
    }
   ],
   "source": [
    "model2 = keras.Sequential()\n",
    "model2.add(keras.layers.Dense(32, activation=\"relu\", input_shape=(28*28,)))\n",
    "model2.add(keras.layers.Dense(32, activation=\"relu\"))\n",
    "model2.add(keras.layers.Dense(32, activation=\"relu\"))\n",
    "model2.add(keras.layers.Dense(32, activation=\"relu\"))\n",
    "model2.add(keras.layers.Dense(32, activation=\"relu\"))\n",
    "model2.add(keras.layers.Dense(10, activation=\"softmax\"))\n",
    "\n",
    "optimizer = keras.optimizers.SGD(lr=0.001)\n",
    "model2.compile(optimizer=optimizer, loss=\"categorical_crossentropy\", metrics=['accuracy'])\n",
    "\n",
    "model2.summary()\n",
    "\n",
    "model2.fit(x_train, y_train,\n",
    "          batch_size=32,\n",
    "          epochs=10,\n",
    "          validation_data=(x_test, y_test))\n",
    "\n",
    "model2.evaluate(x_test,y_test)"
   ]
  },
  {
   "cell_type": "code",
   "execution_count": null,
   "metadata": {},
   "outputs": [],
   "source": []
  }
 ],
 "metadata": {
  "kernelspec": {
   "display_name": "Python 3",
   "language": "python",
   "name": "python3"
  },
  "language_info": {
   "codemirror_mode": {
    "name": "ipython",
    "version": 3
   },
   "file_extension": ".py",
   "mimetype": "text/x-python",
   "name": "python",
   "nbconvert_exporter": "python",
   "pygments_lexer": "ipython3",
   "version": "3.5.2"
  }
 },
 "nbformat": 4,
 "nbformat_minor": 2
}
