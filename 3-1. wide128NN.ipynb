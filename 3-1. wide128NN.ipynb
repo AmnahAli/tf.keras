{
 "cells": [
  {
   "cell_type": "code",
   "execution_count": 1,
   "metadata": {},
   "outputs": [],
   "source": [
    "from tensorflow import keras"
   ]
  },
  {
   "cell_type": "code",
   "execution_count": 2,
   "metadata": {},
   "outputs": [],
   "source": [
    "# Load Data\n",
    "(x_train, y_train), (x_test, y_test) = keras.datasets.mnist.load_data()"
   ]
  },
  {
   "cell_type": "code",
   "execution_count": 3,
   "metadata": {},
   "outputs": [
    {
     "name": "stdout",
     "output_type": "stream",
     "text": [
      "(60000,)\n"
     ]
    }
   ],
   "source": [
    "print(y_train.shape)"
   ]
  },
  {
   "cell_type": "code",
   "execution_count": 4,
   "metadata": {},
   "outputs": [
    {
     "name": "stdout",
     "output_type": "stream",
     "text": [
      "5\n",
      "0\n",
      "4\n",
      "1\n",
      "9\n"
     ]
    }
   ],
   "source": [
    "for i in range(5):\n",
    "    print(y_train[i])"
   ]
  },
  {
   "cell_type": "code",
   "execution_count": 5,
   "metadata": {},
   "outputs": [],
   "source": [
    "# one hot encoding \n",
    "y_train = keras.utils.to_categorical(y_train, 10)\n",
    "y_test = keras.utils.to_categorical(y_test, 10)"
   ]
  },
  {
   "cell_type": "code",
   "execution_count": 6,
   "metadata": {},
   "outputs": [
    {
     "name": "stdout",
     "output_type": "stream",
     "text": [
      "[0. 0. 0. 0. 0. 1. 0. 0. 0. 0.]\n",
      "[1. 0. 0. 0. 0. 0. 0. 0. 0. 0.]\n",
      "[0. 0. 0. 0. 1. 0. 0. 0. 0. 0.]\n",
      "[0. 1. 0. 0. 0. 0. 0. 0. 0. 0.]\n",
      "[0. 0. 0. 0. 0. 0. 0. 0. 0. 1.]\n"
     ]
    }
   ],
   "source": [
    "for i in range(5):\n",
    "    print(y_train[i])"
   ]
  },
  {
   "cell_type": "code",
   "execution_count": 7,
   "metadata": {},
   "outputs": [
    {
     "name": "stdout",
     "output_type": "stream",
     "text": [
      "(60000, 28, 28) (10000, 28, 28)\n"
     ]
    }
   ],
   "source": [
    "print(x_train.shape, x_test.shape)"
   ]
  },
  {
   "cell_type": "code",
   "execution_count": 8,
   "metadata": {},
   "outputs": [],
   "source": [
    "x_train = x_train.reshape([60000,28*28])\n",
    "x_test = x_test.reshape([10000,28*28])"
   ]
  },
  {
   "cell_type": "code",
   "execution_count": 9,
   "metadata": {},
   "outputs": [
    {
     "name": "stdout",
     "output_type": "stream",
     "text": [
      "(60000, 784) (10000, 784)\n"
     ]
    }
   ],
   "source": [
    "print(x_train.shape, x_test.shape)"
   ]
  },
  {
   "cell_type": "code",
   "execution_count": 10,
   "metadata": {},
   "outputs": [],
   "source": [
    "model = keras.Sequential()\n",
    "model.add(keras.layers.Dense(32, activation=\"sigmoid\", input_shape=(28*28,)))\n",
    "model.add(keras.layers.Dense(32, activation=\"sigmoid\"))\n",
    "model.add(keras.layers.Dense(10, activation=\"sigmoid\"))"
   ]
  },
  {
   "cell_type": "code",
   "execution_count": 11,
   "metadata": {},
   "outputs": [
    {
     "name": "stdout",
     "output_type": "stream",
     "text": [
      "_________________________________________________________________\n",
      "Layer (type)                 Output Shape              Param #   \n",
      "=================================================================\n",
      "dense (Dense)                (None, 32)                25120     \n",
      "_________________________________________________________________\n",
      "dense_1 (Dense)              (None, 32)                1056      \n",
      "_________________________________________________________________\n",
      "dense_2 (Dense)              (None, 10)                330       \n",
      "=================================================================\n",
      "Total params: 26,506\n",
      "Trainable params: 26,506\n",
      "Non-trainable params: 0\n",
      "_________________________________________________________________\n"
     ]
    }
   ],
   "source": [
    "optimizer = keras.optimizers.SGD(lr=0.1)\n",
    "model.compile(optimizer=optimizer, loss=\"categorical_crossentropy\", metrics=['accuracy'])\n",
    "\n",
    "model.summary()"
   ]
  },
  {
   "cell_type": "code",
   "execution_count": 12,
   "metadata": {},
   "outputs": [
    {
     "name": "stdout",
     "output_type": "stream",
     "text": [
      "Train on 60000 samples, validate on 10000 samples\n",
      "Epoch 1/10\n",
      "60000/60000 [==============================] - 12s 198us/step - loss: 1.2910 - acc: 0.6277 - val_loss: 0.9458 - val_acc: 0.7049\n",
      "Epoch 2/10\n",
      "60000/60000 [==============================] - 11s 176us/step - loss: 1.0304 - acc: 0.6511 - val_loss: 1.2064 - val_acc: 0.5442\n",
      "Epoch 3/10\n",
      "60000/60000 [==============================] - 11s 176us/step - loss: 0.9214 - acc: 0.6791 - val_loss: 0.9003 - val_acc: 0.6859\n",
      "Epoch 4/10\n",
      "60000/60000 [==============================] - 11s 175us/step - loss: 0.8315 - acc: 0.7197 - val_loss: 0.7198 - val_acc: 0.7754\n",
      "Epoch 5/10\n",
      "60000/60000 [==============================] - 11s 175us/step - loss: 0.8348 - acc: 0.7211 - val_loss: 0.8090 - val_acc: 0.7147\n",
      "Epoch 6/10\n",
      "60000/60000 [==============================] - 10s 174us/step - loss: 0.8282 - acc: 0.7141 - val_loss: 0.8249 - val_acc: 0.7132\n",
      "Epoch 7/10\n",
      "60000/60000 [==============================] - 11s 175us/step - loss: 0.8125 - acc: 0.7233 - val_loss: 0.6947 - val_acc: 0.7669\n",
      "Epoch 8/10\n",
      "60000/60000 [==============================] - 11s 176us/step - loss: 0.7526 - acc: 0.7455 - val_loss: 0.6481 - val_acc: 0.7883\n",
      "Epoch 9/10\n",
      "60000/60000 [==============================] - 10s 175us/step - loss: 0.7280 - acc: 0.7524 - val_loss: 0.7259 - val_acc: 0.7442\n",
      "Epoch 10/10\n",
      "60000/60000 [==============================] - 10s 174us/step - loss: 0.7145 - acc: 0.7606 - val_loss: 0.6590 - val_acc: 0.7757\n"
     ]
    },
    {
     "data": {
      "text/plain": [
       "<tensorflow.python.keras.callbacks.History at 0x7f5122c37b00>"
      ]
     },
     "execution_count": 12,
     "metadata": {},
     "output_type": "execute_result"
    }
   ],
   "source": [
    "model.fit(x_train, y_train,\n",
    "          batch_size=32,\n",
    "          epochs=10,\n",
    "          validation_data=(x_test, y_test))"
   ]
  },
  {
   "cell_type": "code",
   "execution_count": 13,
   "metadata": {},
   "outputs": [
    {
     "name": "stdout",
     "output_type": "stream",
     "text": [
      "10000/10000 [==============================] - 1s 67us/step\n"
     ]
    },
    {
     "data": {
      "text/plain": [
       "[0.6589932903766632, 0.7757]"
      ]
     },
     "execution_count": 13,
     "metadata": {},
     "output_type": "execute_result"
    }
   ],
   "source": [
    "model.evaluate(x_test,y_test)"
   ]
  },
  {
   "cell_type": "code",
   "execution_count": 14,
   "metadata": {},
   "outputs": [
    {
     "name": "stdout",
     "output_type": "stream",
     "text": [
      "Train on 60000 samples, validate on 10000 samples\n",
      "Epoch 1/10\n",
      "60000/60000 [==============================] - 2s 26us/step - loss: 0.6616 - acc: 0.7779 - val_loss: 0.6344 - val_acc: 0.7890\n",
      "Epoch 2/10\n",
      "60000/60000 [==============================] - 2s 27us/step - loss: 0.6458 - acc: 0.7880 - val_loss: 0.6231 - val_acc: 0.7940\n",
      "Epoch 3/10\n",
      "60000/60000 [==============================] - 2s 27us/step - loss: 0.6246 - acc: 0.7964 - val_loss: 0.6136 - val_acc: 0.8007\n",
      "Epoch 4/10\n",
      "60000/60000 [==============================] - 2s 27us/step - loss: 0.6151 - acc: 0.7995 - val_loss: 0.5986 - val_acc: 0.8045\n",
      "Epoch 5/10\n",
      "60000/60000 [==============================] - 2s 27us/step - loss: 0.6157 - acc: 0.8001 - val_loss: 0.5936 - val_acc: 0.8064\n",
      "Epoch 6/10\n",
      "60000/60000 [==============================] - 2s 27us/step - loss: 0.6090 - acc: 0.8033 - val_loss: 0.5853 - val_acc: 0.8101\n",
      "Epoch 7/10\n",
      "60000/60000 [==============================] - 2s 26us/step - loss: 0.5920 - acc: 0.8065 - val_loss: 0.5750 - val_acc: 0.8110\n",
      "Epoch 8/10\n",
      "60000/60000 [==============================] - 2s 26us/step - loss: 0.5868 - acc: 0.8092 - val_loss: 0.5776 - val_acc: 0.8103\n",
      "Epoch 9/10\n",
      "60000/60000 [==============================] - 2s 27us/step - loss: 0.5868 - acc: 0.8074 - val_loss: 0.5742 - val_acc: 0.8120\n",
      "Epoch 10/10\n",
      "60000/60000 [==============================] - 2s 26us/step - loss: 0.5770 - acc: 0.8114 - val_loss: 0.5630 - val_acc: 0.8176\n",
      "10000/10000 [==============================] - 1s 66us/step\n"
     ]
    },
    {
     "data": {
      "text/plain": [
       "[0.5630424203395844, 0.8176]"
      ]
     },
     "execution_count": 14,
     "metadata": {},
     "output_type": "execute_result"
    }
   ],
   "source": [
    "model.fit(x_train, y_train,\n",
    "          batch_size=256,\n",
    "          epochs=10,\n",
    "          validation_data=(x_test, y_test))\n",
    "\n",
    "model.evaluate(x_test,y_test)"
   ]
  }
 ],
 "metadata": {
  "kernelspec": {
   "display_name": "Python 3",
   "language": "python",
   "name": "python3"
  },
  "language_info": {
   "codemirror_mode": {
    "name": "ipython",
    "version": 3
   },
   "file_extension": ".py",
   "mimetype": "text/x-python",
   "name": "python",
   "nbconvert_exporter": "python",
   "pygments_lexer": "ipython3",
   "version": "3.6.5"
  }
 },
 "nbformat": 4,
 "nbformat_minor": 2
}
